{
 "cells": [
  {
   "cell_type": "code",
   "execution_count": 1,
   "metadata": {},
   "outputs": [
    {
     "data": {
      "text/html": [
       "<div>\n",
       "<style scoped>\n",
       "    .dataframe tbody tr th:only-of-type {\n",
       "        vertical-align: middle;\n",
       "    }\n",
       "\n",
       "    .dataframe tbody tr th {\n",
       "        vertical-align: top;\n",
       "    }\n",
       "\n",
       "    .dataframe thead th {\n",
       "        text-align: right;\n",
       "    }\n",
       "</style>\n",
       "<table border=\"1\" class=\"dataframe\">\n",
       "  <thead>\n",
       "    <tr style=\"text-align: right;\">\n",
       "      <th></th>\n",
       "      <th>TV</th>\n",
       "      <th>Sales</th>\n",
       "    </tr>\n",
       "  </thead>\n",
       "  <tbody>\n",
       "    <tr>\n",
       "      <th>0</th>\n",
       "      <td>230.1</td>\n",
       "      <td>22.1</td>\n",
       "    </tr>\n",
       "    <tr>\n",
       "      <th>1</th>\n",
       "      <td>44.5</td>\n",
       "      <td>10.4</td>\n",
       "    </tr>\n",
       "    <tr>\n",
       "      <th>2</th>\n",
       "      <td>17.2</td>\n",
       "      <td>12.0</td>\n",
       "    </tr>\n",
       "    <tr>\n",
       "      <th>3</th>\n",
       "      <td>151.5</td>\n",
       "      <td>16.5</td>\n",
       "    </tr>\n",
       "    <tr>\n",
       "      <th>4</th>\n",
       "      <td>180.8</td>\n",
       "      <td>17.9</td>\n",
       "    </tr>\n",
       "    <tr>\n",
       "      <th>...</th>\n",
       "      <td>...</td>\n",
       "      <td>...</td>\n",
       "    </tr>\n",
       "    <tr>\n",
       "      <th>195</th>\n",
       "      <td>38.2</td>\n",
       "      <td>7.6</td>\n",
       "    </tr>\n",
       "    <tr>\n",
       "      <th>196</th>\n",
       "      <td>94.2</td>\n",
       "      <td>14.0</td>\n",
       "    </tr>\n",
       "    <tr>\n",
       "      <th>197</th>\n",
       "      <td>177.0</td>\n",
       "      <td>14.8</td>\n",
       "    </tr>\n",
       "    <tr>\n",
       "      <th>198</th>\n",
       "      <td>283.6</td>\n",
       "      <td>25.5</td>\n",
       "    </tr>\n",
       "    <tr>\n",
       "      <th>199</th>\n",
       "      <td>232.1</td>\n",
       "      <td>18.4</td>\n",
       "    </tr>\n",
       "  </tbody>\n",
       "</table>\n",
       "<p>200 rows × 2 columns</p>\n",
       "</div>"
      ],
      "text/plain": [
       "        TV  Sales\n",
       "0    230.1   22.1\n",
       "1     44.5   10.4\n",
       "2     17.2   12.0\n",
       "3    151.5   16.5\n",
       "4    180.8   17.9\n",
       "..     ...    ...\n",
       "195   38.2    7.6\n",
       "196   94.2   14.0\n",
       "197  177.0   14.8\n",
       "198  283.6   25.5\n",
       "199  232.1   18.4\n",
       "\n",
       "[200 rows x 2 columns]"
      ]
     },
     "execution_count": 1,
     "metadata": {},
     "output_type": "execute_result"
    }
   ],
   "source": [
    "import matplotlib.pyplot as plt\n",
    "import pandas as pd\n",
    "\n",
    "# ข้อมูลตัวอย่าง\n",
    "df = pd.read_csv('Advertising1.csv')\n",
    "df"
   ]
  },
  {
   "cell_type": "code",
   "execution_count": 2,
   "metadata": {},
   "outputs": [
    {
     "data": {
      "text/html": [
       "<div>\n",
       "<style scoped>\n",
       "    .dataframe tbody tr th:only-of-type {\n",
       "        vertical-align: middle;\n",
       "    }\n",
       "\n",
       "    .dataframe tbody tr th {\n",
       "        vertical-align: top;\n",
       "    }\n",
       "\n",
       "    .dataframe thead th {\n",
       "        text-align: right;\n",
       "    }\n",
       "</style>\n",
       "<table border=\"1\" class=\"dataframe\">\n",
       "  <thead>\n",
       "    <tr style=\"text-align: right;\">\n",
       "      <th></th>\n",
       "      <th>TV</th>\n",
       "      <th>Sales</th>\n",
       "    </tr>\n",
       "  </thead>\n",
       "  <tbody>\n",
       "    <tr>\n",
       "      <th>TV</th>\n",
       "      <td>1.000000</td>\n",
       "      <td>0.901208</td>\n",
       "    </tr>\n",
       "    <tr>\n",
       "      <th>Sales</th>\n",
       "      <td>0.901208</td>\n",
       "      <td>1.000000</td>\n",
       "    </tr>\n",
       "  </tbody>\n",
       "</table>\n",
       "</div>"
      ],
      "text/plain": [
       "             TV     Sales\n",
       "TV     1.000000  0.901208\n",
       "Sales  0.901208  1.000000"
      ]
     },
     "execution_count": 2,
     "metadata": {},
     "output_type": "execute_result"
    }
   ],
   "source": [
    "df.corr()\n"
   ]
  },
  {
   "cell_type": "code",
   "execution_count": 3,
   "metadata": {},
   "outputs": [
    {
     "data": {
      "image/png": "[encoded data removed]",
      "text/plain": [
       "<Figure size 640x480 with 1 Axes>"
      ]
     },
     "metadata": {},
     "output_type": "display_data"
    }
   ],
   "source": [
    "import matplotlib.pyplot as plt\n",
    "df.plot(x='TV', y='Sales', style='o')\n",
    "plt.title(\"TV vs Sales\")\n",
    "plt.xlabel(\"TV\")\n",
    "plt.ylabel(\"Sales\")\n",
    "plt.show()"
   ]
  },
  {
   "cell_type": "code",
   "execution_count": 4,
   "metadata": {},
   "outputs": [
    {
     "data": {
      "text/plain": [
       "np.float64(6.974821488229891)"
      ]
     },
     "execution_count": 4,
     "metadata": {},
     "output_type": "execute_result"
    }
   ],
   "source": [
    "from sklearn.model_selection import train_test_split\n",
    "from sklearn.linear_model import LinearRegression\n",
    "from sklearn.metrics import mean_squared_error\n",
    "X = df[['TV']]\n",
    "y = df['Sales']\n",
    "\n",
    "lrm = LinearRegression()\n",
    "lrm.fit(X, y)\n",
    "lrm.intercept_\n",
    "\n"
   ]
  },
  {
   "cell_type": "code",
   "execution_count": 5,
   "metadata": {},
   "outputs": [
    {
     "data": {
      "text/plain": [
       "array([19.73726517,  9.44300377,  7.92881554, 15.37773421, 17.00285199,\n",
       "        7.45736499, 10.16404579, 13.6416869 ,  7.45181851, 18.05668263,\n",
       "       10.64104282, 18.88310771,  8.29488303, 12.38263661, 18.29518114,\n",
       "       17.81263764, 10.73533293, 22.5826079 , 10.8129836 , 15.14478218,\n",
       "       19.08832736, 20.142158  ,  7.70695646, 19.63742859, 10.43027669,\n",
       "       21.55650964, 14.90073719, 20.29191288, 20.77445638, 10.89063428,\n",
       "       23.22045276, 13.23679407, 12.36599718, 21.70626452, 12.28280002,\n",
       "       23.09843026, 21.77836873, 11.11803984,  9.3653531 , 19.62078916,\n",
       "       18.20643751, 16.79208586, 23.2592781 , 18.4504825 ,  8.36698723,\n",
       "       16.6867028 , 11.9500114 , 20.28081992, 19.57641734, 10.68541463,\n",
       "       18.05668263, 12.54348444, 18.97739782, 17.10268858, 21.54541669,\n",
       "       18.00676433,  7.37971431, 14.52912323, 18.6667951 , 18.66124863,\n",
       "        9.94218671, 21.46776601, 20.24754106, 12.67105342, 14.2462529 ,\n",
       "       10.80189065,  8.72196176, 14.70106401, 20.142158  , 18.99958373,\n",
       "       18.01785729, 13.06485329,  8.46127734, 14.15196279, 18.81100351,\n",
       "        7.91217611,  8.50010268, 13.65832633,  7.27433125, 13.40873486,\n",
       "       11.21232995, 20.27527345, 11.1513187 , 10.76861179, 18.81654998,\n",
       "       17.69061514, 11.20678348, 13.11477158, 11.87236072, 13.06485329,\n",
       "       14.42374016,  8.56111392, 19.04950202, 20.8909324 , 12.93173784,\n",
       "       16.03221851, 17.93466013, 17.23025755, 23.04296549, 14.47365846,\n",
       "       19.31018644, 23.41457946, 22.51605017, 17.39665186, 20.18652981,\n",
       "       14.62341334,  8.36144075, 11.98883674,  7.70140998, 21.14052387,\n",
       "       19.49876666, 20.38065651, 16.71998166, 18.60023738, 11.31216654,\n",
       "       11.14022575, 14.69551754, 11.21232995, 13.94674314,  8.05083804,\n",
       "       14.81199356,  8.01755917, 19.39893007, 13.80253473, 19.70398631,\n",
       "       11.81134947,  7.4074467 , 11.42309608, 19.19371042, 10.28052181,\n",
       "        7.01364683, 21.68407862,  7.44072556, 19.16597804,  9.02147152,\n",
       "        9.6537699 ,  8.39471961, 22.15552917,  9.35980662, 17.23025755,\n",
       "       11.04593564, 17.71834753, 19.20480338, 12.77643648, 12.31053241,\n",
       "       14.75652879, 20.29191288, 20.46385367,  9.08248277,  9.45409673,\n",
       "       22.54378256, 13.68605872, 17.93466013, 16.47593667, 17.39110538,\n",
       "        7.20222705, 12.18296344, 15.2834441 ,  7.6237593 , 14.27953176,\n",
       "       16.54249439, 11.72815232, 17.42438424, 16.04331146, 13.47529259,\n",
       "       19.98131016,  7.96764088, 18.44493602, 18.92193305, 22.74345573,\n",
       "        9.74806001, 16.09877623,  8.06193099, 16.31508884, 19.31018644,\n",
       "       22.33301643, 20.75227047, 16.41492542, 22.32192348, 16.15978748,\n",
       "       15.66060454, 19.09387384, 10.09194159, 22.92648948, 21.05178023,\n",
       "       18.34509943, 14.71215697, 17.57413912, 22.83774584,  8.0120127 ,\n",
       "        9.16567992, 11.16241166,  7.92881554, 16.2263452 , 15.27789763,\n",
       "        9.09357572, 12.19960287, 16.79208586, 22.70463039, 19.84819471])"
      ]
     },
     "execution_count": 5,
     "metadata": {},
     "output_type": "execute_result"
    }
   ],
   "source": [
    "predictions = lrm.predict(X)\n",
    "predictions "
   ]
  },
  {
   "cell_type": "code",
   "execution_count": 6,
   "metadata": {},
   "outputs": [
    {
     "data": {
      "text/plain": [
       "[<matplotlib.lines.Line2D at 0x26fc44ac190>]"
      ]
     },
     "execution_count": 6,
     "metadata": {},
     "output_type": "execute_result"
    },
    {
     "data": {
      "image/png": "[encoded data removed]",
      "text/plain": [
       "<Figure size 640x480 with 1 Axes>"
      ]
     },
     "metadata": {},
     "output_type": "display_data"
    }
   ],
   "source": [
    "plt.scatter(X, y,color = 'black')\n",
    "plt.plot(X,predictions,color = 'blue',linewidth=2)"
   ]
  },
  {
   "cell_type": "code",
   "execution_count": 7,
   "metadata": {},
   "outputs": [
    {
     "name": "stderr",
     "output_type": "stream",
     "text": [
      "C:\\Users\\Acer\\AppData\\Local\\Packages\\PythonSoftwareFoundation.Python.3.11_qbz5n2kfra8p0\\LocalCache\\local-packages\\Python311\\site-packages\\sklearn\\utils\\validation.py:2739: UserWarning: X does not have valid feature names, but LinearRegression was fitted with feature names\n",
      "  warnings.warn(\n"
     ]
    },
    {
     "data": {
      "text/plain": [
       "array([13.63059394])"
      ]
     },
     "execution_count": 7,
     "metadata": {},
     "output_type": "execute_result"
    }
   ],
   "source": [
    "lrm.predict([[120]])"
   ]
  },
  {
   "cell_type": "code",
   "execution_count": 8,
   "metadata": {},
   "outputs": [
    {
     "data": {
      "text/plain": [
       "1.8305872641932412"
      ]
     },
     "execution_count": 8,
     "metadata": {},
     "output_type": "execute_result"
    }
   ],
   "source": [
    "from sklearn import metrics\n",
    "metrics.mean_absolute_error(y,predictions)"
   ]
  }
 ],
 "metadata": {
  "kernelspec": {
   "display_name": "Python 3",
   "language": "python",
   "name": "python3"
  },
  "language_info": {
   "codemirror_mode": {
    "name": "ipython",
    "version": 3
   },
   "file_extension": ".py",
   "mimetype": "text/x-python",
   "name": "python",
   "nbconvert_exporter": "python",
   "pygments_lexer": "ipython3",
   "version": "3.11.9"
  }
 },
 "nbformat": 4,
 "nbformat_minor": 2
}
